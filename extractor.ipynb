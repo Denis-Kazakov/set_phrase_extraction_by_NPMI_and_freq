{
 "cells": [
  {
   "cell_type": "markdown",
   "id": "cace3646-122f-4535-b354-06b0cc28c215",
   "metadata": {},
   "source": [
    "# Set phrase identification using ngram frequency and normalized pointwise mutual information (NPMI)\n",
    "The algorithm builds a distribution of ngrams with length between predefined min and max values, identifies an ngram with maximum NPMI and merges it into a single token. This operation is repeated until predefined min NPMI is reached.\n",
    "\n",
    "To this end, I use modified definition of NMPI for several tokens:\n",
    "\n",
    "log(p(x1...xn)/p(x1)...p(xn)) / [-log((p(x1...xn)) * (n-1)]\n",
    "\n",
    "(n-1) is needed to make sure NMPI = 1 for tokens that are always used together.\n",
    "\n",
    "However, I think this definition needs a bias to encourage joining longer ngrams, otherwises it mostly merges bigrams. So I introduced a parameter alpha to control bias towards longer or shorter ngrams and replaced (n-1) with (n-1)**alpha. The parameter works in reverse: alpha = 0 biases the algorithm towards longer ngrams; alpha = 1, towards shorter ngrams.\n",
    "\n",
    "Another tunable hyperparameter is the number of most common ngrams considered at every iteration (N).\n",
    "\n",
    "This version tries to take both NPMI and relative ngram frequency into consideration. Relative frequency is defined as the frequency of a particular engram divided by the maximum ngram frequency in this dataset. The combined parameter is:\n",
    "\n",
    "colloc = w * rel_freq + npmi\n",
    "\n",
    "where w is weight controling contribution of frequency.\n",
    "\n",
    "### Batching\n",
    "For long files, I use batching: the next ngram to be merged is found in a batch rather than in the whole file and then it is merged in the whole file."
   ]
  },
  {
   "cell_type": "code",
   "execution_count": 1,
   "id": "6a032f75-b6a8-4477-aefa-b28700c4a4e7",
   "metadata": {},
   "outputs": [],
   "source": [
    "import nltk\n",
    "from tqdm import tqdm\n",
    "import json\n",
    "import chime\n",
    "from math import log2, prod\n",
    "from random import randint"
   ]
  },
  {
   "cell_type": "code",
   "execution_count": 2,
   "id": "c3623808-4705-4c4f-a371-00cabdcf7db5",
   "metadata": {},
   "outputs": [],
   "source": [
    "%load_ext chime"
   ]
  },
  {
   "cell_type": "markdown",
   "id": "910260bc-050d-473e-bcb6-ecde84338e8f",
   "metadata": {},
   "source": [
    "# Hyperparameters"
   ]
  },
  {
   "cell_type": "markdown",
   "id": "58bd40b0-9eb5-41e0-ab39-535c66fcfb3e",
   "metadata": {},
   "source": [
    "The number of the most common words to be considered:"
   ]
  },
  {
   "cell_type": "code",
   "execution_count": 3,
   "id": "828ea04a-c6bd-4952-99c7-f4501ac38458",
   "metadata": {},
   "outputs": [],
   "source": [
    "n_most_common = 10000"
   ]
  },
  {
   "cell_type": "markdown",
   "id": "4fe2aad5-6d4a-4896-a33b-99a2da6338cb",
   "metadata": {},
   "source": [
    "Minimum \"collocation\" below which no merging is done"
   ]
  },
  {
   "cell_type": "code",
   "execution_count": 4,
   "id": "5f1c5522-24ce-4d47-8e8f-171b5f648759",
   "metadata": {},
   "outputs": [],
   "source": [
    "colloc_threshold = 0.5"
   ]
  },
  {
   "cell_type": "markdown",
   "id": "014ee67a-5142-4ca0-b493-5476df6f8a46",
   "metadata": {},
   "source": [
    "Min and max length of ngrams to be considered in the calculation (longer ngrams may result from merging with previously concatenated strings):"
   ]
  },
  {
   "cell_type": "code",
   "execution_count": 5,
   "id": "2b4951b7-22de-42d1-b878-e7b1e5d5263c",
   "metadata": {},
   "outputs": [],
   "source": [
    "min_len = 2\n",
    "max_len = 5"
   ]
  },
  {
   "cell_type": "markdown",
   "id": "f7b626c7-c01c-4cc1-a0c8-c8abec40dfe4",
   "metadata": {},
   "source": [
    "Batch size. If int, the number of tokens in a batch. If float, fraction of the total number of tokens in the text."
   ]
  },
  {
   "cell_type": "code",
   "execution_count": 6,
   "id": "cd57959d-24fa-4cf8-8f75-8cef55803bee",
   "metadata": {},
   "outputs": [],
   "source": [
    "batch_size = 0.1"
   ]
  },
  {
   "cell_type": "markdown",
   "id": "ab5bef17-41b8-413d-ac7f-7b061a9ce93b",
   "metadata": {},
   "source": [
    "Weight to control contribution of frequency vs NPMI:"
   ]
  },
  {
   "cell_type": "code",
   "execution_count": 7,
   "id": "ffcf6610-93d9-4922-ba47-a9b00dd276ed",
   "metadata": {},
   "outputs": [],
   "source": [
    "w = 0.5"
   ]
  },
  {
   "cell_type": "markdown",
   "id": "709059b9-d29e-46ac-aaef-f1aa5eaa140b",
   "metadata": {},
   "source": [
    "Bias towards shorter ngrams"
   ]
  },
  {
   "cell_type": "code",
   "execution_count": 8,
   "id": "4c7f2aa1-5c8f-4489-8838-375b97a9ee52",
   "metadata": {},
   "outputs": [],
   "source": [
    "alpha = 0.5"
   ]
  },
  {
   "cell_type": "code",
   "execution_count": 9,
   "id": "c7aeedeb-f880-436e-90a7-30553174188a",
   "metadata": {},
   "outputs": [],
   "source": [
    "with open('hyperparameters.json', 'w') as f:\n",
    "    json.dump(\n",
    "        {\n",
    "            'n_most_common': n_most_common,\n",
    "            'colloc_threshold': colloc_threshold,\n",
    "            'min_len': min_len,\n",
    "            'max_len': max_len,\n",
    "            'batch_size': batch_size,\n",
    "            'w': w,\n",
    "            'alpha': alpha\n",
    "        },\n",
    "        f\n",
    "    )"
   ]
  },
  {
   "cell_type": "markdown",
   "id": "05ab9d3c-f366-4ce0-9b2b-a5a6ae8b2010",
   "metadata": {},
   "source": [
    "# Inputs:"
   ]
  },
  {
   "cell_type": "markdown",
   "id": "3692ef56-ea1f-4f72-97b7-6bc9072cdbe8",
   "metadata": {},
   "source": [
    "Original corpus or the corpus with some tokens merged during previous iterations:"
   ]
  },
  {
   "cell_type": "code",
   "execution_count": 10,
   "id": "34007bba-03f2-49d6-bfb9-7b9b235705f9",
   "metadata": {},
   "outputs": [],
   "source": [
    "filename_corpus = 'legal_clauses.json'"
   ]
  },
  {
   "cell_type": "markdown",
   "id": "5e2d049d-49ec-4597-aceb-965a052c5d02",
   "metadata": {},
   "source": [
    "Load the sequence with some tokens already merged in previous iterations if it exists or the original file if it does not:"
   ]
  },
  {
   "cell_type": "code",
   "execution_count": 11,
   "id": "5208e333-3ec2-47eb-85cb-4fd41a7c7d1e",
   "metadata": {
    "scrolled": true
   },
   "outputs": [
    {
     "name": "stdout",
     "output_type": "stream",
     "text": [
      "Using tokens from previous iteraions\n"
     ]
    }
   ],
   "source": [
    "try:\n",
    "    with open('tokens.json', 'r') as f:\n",
    "        tokens = json.load(f)\n",
    "        print('Using tokens from previous iteraions')\n",
    "except:\n",
    "    with open(filename_corpus, 'r') as f:\n",
    "        tokens = json.load(f)\n",
    "        print('Starting with the original text')"
   ]
  },
  {
   "cell_type": "markdown",
   "id": "849299f9-72ec-4015-998c-e8cae7a917e3",
   "metadata": {},
   "source": [
    "Load the log of merging operations previous iterations or create a new empty log:"
   ]
  },
  {
   "cell_type": "code",
   "execution_count": 12,
   "id": "3e650851-165b-47cb-a7ed-0046a1bc45a6",
   "metadata": {},
   "outputs": [
    {
     "name": "stdout",
     "output_type": "stream",
     "text": [
      "Continuing merging log from previous iteraions\n"
     ]
    }
   ],
   "source": [
    "try:\n",
    "    with open('merging_log.json', 'r') as f:\n",
    "        merging_log = json.load(f)\n",
    "        print('Continuing merging log from previous iteraions')\n",
    "except:\n",
    "    merging_log = []\n",
    "    print('Starting a new merging log')"
   ]
  },
  {
   "cell_type": "markdown",
   "id": "1628b3d1-83c4-4d3d-95b5-9a3a9ae7764c",
   "metadata": {},
   "source": [
    "# Functions"
   ]
  },
  {
   "cell_type": "code",
   "execution_count": 13,
   "id": "ad88433d-b378-493b-8dd0-9880e08e9586",
   "metadata": {},
   "outputs": [],
   "source": [
    "def normalized_pmi(ngram, fdist_unigrams, fdist_ngrams, N_unigrams, N_ngrams):\n",
    "    p1 = [fdist_unigrams[token] / N_unigrams for token in ngram]\n",
    "    pn = fdist_ngrams[ngram] / N_ngrams\n",
    "    return -log2(pn / prod(p1)) / (log2(pn) * (len(ngram) - 1) ** alpha)"
   ]
  },
  {
   "cell_type": "code",
   "execution_count": 14,
   "id": "68717e22-b520-4bc5-ae33-cf003fb1514d",
   "metadata": {},
   "outputs": [],
   "source": [
    "def get_max(tokens, batch_size):\n",
    "    len_tokens = len(tokens)\n",
    "    '''The function returns a bigram with the max NPMI value and the NPMI'''\n",
    "    if isinstance(batch_size, float):\n",
    "        batch_len = int(len_tokens * batch_size)\n",
    "    else:\n",
    "        batch_len = batch_size\n",
    "    # Select random slice\n",
    "    start = randint(0, len_tokens - batch_len)\n",
    "    slice = tokens[start: start + batch_len]\n",
    "    fdist_unigrams = nltk.FreqDist(slice)\n",
    "    fdist_ngrams = nltk.FreqDist(nltk.everygrams(slice, min_len=min_len, max_len=max_len))\n",
    "    N_unigrams = fdist_unigrams.N()\n",
    "    N_ngrams = fdist_ngrams.N()\n",
    "    max_count = fdist_ngrams[fdist_ngrams.max()]\n",
    "    common_bigrams = fdist_ngrams.most_common(n_most_common)\n",
    "    max_colloc = 0\n",
    "    max_ngram = None    \n",
    "    for ngram, count in common_bigrams:\n",
    "        npmi = normalized_pmi(ngram, fdist_unigrams, fdist_ngrams, N_unigrams, N_ngrams)\n",
    "        rel_freq = fdist_ngrams[ngram] / max_count\n",
    "        colloc = w * rel_freq + npmi\n",
    "        if colloc > max_colloc:\n",
    "            max_colloc = colloc\n",
    "            max_ngram = ngram\n",
    "            max_npmi = npmi\n",
    "            max_rel_freq = rel_freq\n",
    "    return {'ngram': max_ngram, 'rel_freq': max_rel_freq, 'npmi': max_npmi, 'colloc': max_colloc}"
   ]
  },
  {
   "cell_type": "code",
   "execution_count": 15,
   "id": "27edbdd7-ac6f-4e93-a471-1221f177a0b7",
   "metadata": {},
   "outputs": [],
   "source": [
    "def merge(tokens, ngram):\n",
    "    '''Merging all instances of the ngram in the sequence into a single token'''\n",
    "    n = len(ngram)\n",
    "    i = 0\n",
    "    new_sequence = []\n",
    "    ngram_merged = ' '.join(ngram)\n",
    "    while i <= len(tokens) - n:\n",
    "        if (tokens[i : i + n]) == list(ngram):\n",
    "            new_sequence.append(ngram_merged)\n",
    "            i += n\n",
    "        else:\n",
    "            new_sequence.append(tokens[i])\n",
    "            i += 1\n",
    "    # The last tokens\n",
    "    for j in range(i, len(tokens) - 1):\n",
    "        new_sequence.append(tokens[j])\n",
    "    return new_sequence"
   ]
  },
  {
   "cell_type": "markdown",
   "id": "4acd2948-f988-4568-8be9-326a594fb008",
   "metadata": {},
   "source": [
    "# Merging\n",
    "Original number of tokens:"
   ]
  },
  {
   "cell_type": "code",
   "execution_count": 16,
   "id": "8973fbcf-aace-47b4-b054-672ed4bbbe98",
   "metadata": {
    "scrolled": true
   },
   "outputs": [
    {
     "data": {
      "text/plain": [
       "12355070"
      ]
     },
     "execution_count": 16,
     "metadata": {},
     "output_type": "execute_result"
    }
   ],
   "source": [
    "len(tokens)"
   ]
  },
  {
   "cell_type": "code",
   "execution_count": 70,
   "id": "71d1c5f3-9a31-4d81-a734-0eaf6190c070",
   "metadata": {},
   "outputs": [],
   "source": [
    "n_iter = 100"
   ]
  },
  {
   "cell_type": "code",
   "execution_count": 71,
   "id": "20e360c2-1f91-4397-ae4c-9e63c7da352f",
   "metadata": {
    "scrolled": true
   },
   "outputs": [
    {
     "name": "stderr",
     "output_type": "stream",
     "text": [
      " 45%|███████████████████████████████████████████████████████████████████▌                                                                                  | 45/100 [11:21<13:53, 15.15s/it]"
     ]
    },
    {
     "name": "stdout",
     "output_type": "stream",
     "text": [
      "Collocation threshold is reached\n"
     ]
    },
    {
     "name": "stderr",
     "output_type": "stream",
     "text": [
      "\n"
     ]
    }
   ],
   "source": [
    "%%chime\n",
    "for i in tqdm(range(n_iter)):\n",
    "    ngram_to_merge = get_max(tokens, batch_size=batch_size)\n",
    "    if ngram_to_merge['colloc'] < colloc_threshold:\n",
    "        print('Collocation threshold is reached')\n",
    "        break\n",
    "    merging_log.append(ngram_to_merge)\n",
    "    tokens = merge(tokens, ngram_to_merge['ngram'])"
   ]
  },
  {
   "cell_type": "code",
   "execution_count": 72,
   "id": "e2eb7beb-bbd9-49de-8285-33da601a09d5",
   "metadata": {
    "scrolled": true
   },
   "outputs": [
    {
     "data": {
      "text/plain": [
       "11460242"
      ]
     },
     "execution_count": 72,
     "metadata": {},
     "output_type": "execute_result"
    }
   ],
   "source": [
    "len(tokens)"
   ]
  },
  {
   "cell_type": "markdown",
   "id": "80caf58a-eef9-4197-931a-6c164c4f436f",
   "metadata": {},
   "source": [
    "Total iterations so far:"
   ]
  },
  {
   "cell_type": "code",
   "execution_count": 73,
   "id": "85b536b4-12da-42dc-9843-5e5182957d64",
   "metadata": {},
   "outputs": [
    {
     "data": {
      "text/plain": [
       "2042"
      ]
     },
     "execution_count": 73,
     "metadata": {},
     "output_type": "execute_result"
    }
   ],
   "source": [
    "len(merging_log)"
   ]
  },
  {
   "cell_type": "code",
   "execution_count": 74,
   "id": "39059359-8ca5-4a05-9fde-9fc5e97d5fd5",
   "metadata": {},
   "outputs": [],
   "source": [
    "with open('merging_log.json', 'w') as f:\n",
    "    json.dump(merging_log, f)"
   ]
  },
  {
   "cell_type": "code",
   "execution_count": 75,
   "id": "c9e2758b-de49-4915-88c5-ea211421e264",
   "metadata": {},
   "outputs": [],
   "source": [
    "with open('tokens.json', 'w') as f:\n",
    "    json.dump(tokens, f)"
   ]
  },
  {
   "cell_type": "markdown",
   "id": "d9654218-999d-4b40-8a93-8414f307ea43",
   "metadata": {},
   "source": [
    "# Remove single words"
   ]
  },
  {
   "cell_type": "code",
   "execution_count": 76,
   "id": "60d5e7b3-2121-47bd-bf52-f9cca01c6309",
   "metadata": {
    "scrolled": true
   },
   "outputs": [
    {
     "name": "stderr",
     "output_type": "stream",
     "text": [
      "100%|██████████████████████████████████████████████████████████████████████████████████████████████████████████████████████████████████████| 11460242/11460242 [00:05<00:00, 2126603.44it/s]\n"
     ]
    }
   ],
   "source": [
    "set_phrases = []\n",
    "for token in tqdm(tokens):\n",
    "    if len(token.split()) > 1:\n",
    "        set_phrases.append(token)\n",
    "set_phrases = list(set(set_phrases))"
   ]
  },
  {
   "cell_type": "code",
   "execution_count": 77,
   "id": "2af5c490-b56a-4780-a1a0-51d7ed891618",
   "metadata": {},
   "outputs": [],
   "source": [
    "with open('set_phrases.json', 'w') as f:\n",
    "    json.dump(set_phrases, f)"
   ]
  },
  {
   "cell_type": "code",
   "execution_count": 78,
   "id": "15523b43-68c6-45fd-b686-a014c83b00e2",
   "metadata": {},
   "outputs": [
    {
     "data": {
      "text/plain": [
       "2041"
      ]
     },
     "execution_count": 78,
     "metadata": {},
     "output_type": "execute_result"
    }
   ],
   "source": [
    "len(set_phrases)"
   ]
  },
  {
   "cell_type": "markdown",
   "id": "d60b241d-c140-4314-93f3-bcca5bcd4519",
   "metadata": {},
   "source": [
    "# Preliminary evaluation"
   ]
  },
  {
   "cell_type": "code",
   "execution_count": 79,
   "id": "11047260-0fe5-4385-a23b-4c947d2d08a9",
   "metadata": {},
   "outputs": [],
   "source": [
    "import pandas as pd"
   ]
  },
  {
   "cell_type": "code",
   "execution_count": 80,
   "id": "dfd1cfe6-0930-432c-84ad-12846c2f752b",
   "metadata": {},
   "outputs": [
    {
     "data": {
      "text/plain": [
       "word_count\n",
       "5     552\n",
       "4     551\n",
       "3     469\n",
       "2     255\n",
       "7      55\n",
       "6      51\n",
       "8      44\n",
       "9      31\n",
       "10     10\n",
       "13      7\n",
       "12      5\n",
       "11      5\n",
       "14      2\n",
       "17      2\n",
       "16      1\n",
       "19      1\n",
       "Name: count, dtype: int64"
      ]
     },
     "execution_count": 80,
     "metadata": {},
     "output_type": "execute_result"
    }
   ],
   "source": [
    "df = pd.DataFrame({'set_prases': set_phrases})\n",
    "df['word_count'] = df.set_prases.apply(lambda x: len(x.split()))\n",
    "df.word_count.value_counts()"
   ]
  },
  {
   "cell_type": "code",
   "execution_count": 81,
   "id": "34db24ce-c0ca-436a-9b3d-e23cdf42f56f",
   "metadata": {},
   "outputs": [
    {
     "data": {
      "text/html": [
       "<div>\n",
       "<style scoped>\n",
       "    .dataframe tbody tr th:only-of-type {\n",
       "        vertical-align: middle;\n",
       "    }\n",
       "\n",
       "    .dataframe tbody tr th {\n",
       "        vertical-align: top;\n",
       "    }\n",
       "\n",
       "    .dataframe thead th {\n",
       "        text-align: right;\n",
       "    }\n",
       "</style>\n",
       "<table border=\"1\" class=\"dataframe\">\n",
       "  <thead>\n",
       "    <tr style=\"text-align: right;\">\n",
       "      <th></th>\n",
       "      <th>ngram</th>\n",
       "      <th>rel_freq</th>\n",
       "      <th>npmi</th>\n",
       "      <th>colloc</th>\n",
       "    </tr>\n",
       "  </thead>\n",
       "  <tbody>\n",
       "    <tr>\n",
       "      <th>0</th>\n",
       "      <td>[corporation, duly, organized, validly, existing]</td>\n",
       "      <td>0.002039</td>\n",
       "      <td>1.220702</td>\n",
       "      <td>1.221721</td>\n",
       "    </tr>\n",
       "    <tr>\n",
       "      <th>1</th>\n",
       "      <td>[generally, accepted, accounting, principles]</td>\n",
       "      <td>0.002554</td>\n",
       "      <td>1.165551</td>\n",
       "      <td>1.166828</td>\n",
       "    </tr>\n",
       "    <tr>\n",
       "      <th>2</th>\n",
       "      <td>[untrue, statement, or, alleged, untrue]</td>\n",
       "      <td>0.002199</td>\n",
       "      <td>1.073776</td>\n",
       "      <td>1.074876</td>\n",
       "    </tr>\n",
       "    <tr>\n",
       "      <th>3</th>\n",
       "      <td>[have, a, material, adverse, effect]</td>\n",
       "      <td>0.015550</td>\n",
       "      <td>1.073189</td>\n",
       "      <td>1.080964</td>\n",
       "    </tr>\n",
       "    <tr>\n",
       "      <th>4</th>\n",
       "      <td>[being, contested, in, good, faith]</td>\n",
       "      <td>0.001914</td>\n",
       "      <td>1.069853</td>\n",
       "      <td>1.070810</td>\n",
       "    </tr>\n",
       "    <tr>\n",
       "      <th>...</th>\n",
       "      <td>...</td>\n",
       "      <td>...</td>\n",
       "      <td>...</td>\n",
       "      <td>...</td>\n",
       "    </tr>\n",
       "    <tr>\n",
       "      <th>2037</th>\n",
       "      <td>(itamar, medical)</td>\n",
       "      <td>0.002761</td>\n",
       "      <td>0.620129</td>\n",
       "      <td>0.621509</td>\n",
       "    </tr>\n",
       "    <tr>\n",
       "      <th>2038</th>\n",
       "      <td>(shall, become, effective)</td>\n",
       "      <td>0.006598</td>\n",
       "      <td>0.504880</td>\n",
       "      <td>0.508179</td>\n",
       "    </tr>\n",
       "    <tr>\n",
       "      <th>2039</th>\n",
       "      <td>(schedule, i, hereto)</td>\n",
       "      <td>0.003266</td>\n",
       "      <td>0.505592</td>\n",
       "      <td>0.507225</td>\n",
       "    </tr>\n",
       "    <tr>\n",
       "      <th>2040</th>\n",
       "      <td>(fiduciary, duty)</td>\n",
       "      <td>0.002736</td>\n",
       "      <td>0.534237</td>\n",
       "      <td>0.535606</td>\n",
       "    </tr>\n",
       "    <tr>\n",
       "      <th>2041</th>\n",
       "      <td>(its, officers, directors)</td>\n",
       "      <td>0.002747</td>\n",
       "      <td>0.512784</td>\n",
       "      <td>0.514158</td>\n",
       "    </tr>\n",
       "  </tbody>\n",
       "</table>\n",
       "<p>2042 rows × 4 columns</p>\n",
       "</div>"
      ],
      "text/plain": [
       "                                                  ngram  rel_freq      npmi  \\\n",
       "0     [corporation, duly, organized, validly, existing]  0.002039  1.220702   \n",
       "1         [generally, accepted, accounting, principles]  0.002554  1.165551   \n",
       "2              [untrue, statement, or, alleged, untrue]  0.002199  1.073776   \n",
       "3                  [have, a, material, adverse, effect]  0.015550  1.073189   \n",
       "4                   [being, contested, in, good, faith]  0.001914  1.069853   \n",
       "...                                                 ...       ...       ...   \n",
       "2037                                  (itamar, medical)  0.002761  0.620129   \n",
       "2038                         (shall, become, effective)  0.006598  0.504880   \n",
       "2039                              (schedule, i, hereto)  0.003266  0.505592   \n",
       "2040                                  (fiduciary, duty)  0.002736  0.534237   \n",
       "2041                         (its, officers, directors)  0.002747  0.512784   \n",
       "\n",
       "        colloc  \n",
       "0     1.221721  \n",
       "1     1.166828  \n",
       "2     1.074876  \n",
       "3     1.080964  \n",
       "4     1.070810  \n",
       "...        ...  \n",
       "2037  0.621509  \n",
       "2038  0.508179  \n",
       "2039  0.507225  \n",
       "2040  0.535606  \n",
       "2041  0.514158  \n",
       "\n",
       "[2042 rows x 4 columns]"
      ]
     },
     "execution_count": 81,
     "metadata": {},
     "output_type": "execute_result"
    }
   ],
   "source": [
    "pd.DataFrame(merging_log)"
   ]
  },
  {
   "cell_type": "code",
   "execution_count": 82,
   "id": "472c1972-6c32-4a5d-bd6d-da414716d73f",
   "metadata": {},
   "outputs": [
    {
     "data": {
      "text/plain": [
       "['including attorneys fees',\n",
       " 'without the prior written consent',\n",
       " 'act u s c et seq',\n",
       " 'subject to the provisions of',\n",
       " 'internal revenue code',\n",
       " 'there is no',\n",
       " 'on behalf of the holders',\n",
       " 'the execution delivery or performance',\n",
       " 'properties and to carry on its business as',\n",
       " 'most recently',\n",
       " 'in form and substance',\n",
       " 'shall not affect the construction',\n",
       " 'which the company or any of its subsidiaries is',\n",
       " 'set forth opposite',\n",
       " 'period of two years',\n",
       " 'in its capacity as',\n",
       " 'prior written consent of',\n",
       " 'meanings ascribed to them',\n",
       " 'have the respective meanings',\n",
       " 'applicable laws and regulations',\n",
       " 'in two or more',\n",
       " 'agreement may not be modified',\n",
       " 'this agreement may be modified',\n",
       " 'will not be liable',\n",
       " 'holders of a majority in aggregate principal amount of',\n",
       " 'j p morgan',\n",
       " 'actions suits',\n",
       " 'as the case may be',\n",
       " 'indemnify defend and hold',\n",
       " 'with respect thereto',\n",
       " 'or consequential damages',\n",
       " 'a corporation duly organized validly existing and in good standing under the laws',\n",
       " 'payment of any penalty',\n",
       " 'los angeles',\n",
       " 'shall not be assignable',\n",
       " 'with full power',\n",
       " 'fully paid and non assessable',\n",
       " 'the consummation of the transactions contemplated hereby',\n",
       " 'headings in this agreement are',\n",
       " 'create incur assume or suffer to exist any',\n",
       " 'invalid illegal or unenforceable',\n",
       " 'fee simple',\n",
       " 'by giving written notice',\n",
       " 'for its own account',\n",
       " 'at least annually',\n",
       " 'or otherwise disposed of',\n",
       " 'except as may be',\n",
       " 'eligible lender trustee',\n",
       " 'executive s employment',\n",
       " 'the administrative agent',\n",
       " 'transactions contemplated herein',\n",
       " 'holders of a majority of',\n",
       " 'the language used in',\n",
       " 'shall be deemed to include',\n",
       " 'city of new york',\n",
       " 'the party against whom',\n",
       " 'accurate and complete',\n",
       " 'in any number of counterparts',\n",
       " 'similar laws affecting',\n",
       " 'their respective obligations',\n",
       " 'no later than',\n",
       " 'take place at',\n",
       " 'majority in aggregate principal amount',\n",
       " 'without limiting the generality of the foregoing',\n",
       " 'agreements herein contained',\n",
       " 'the entire agreement between',\n",
       " 'other good and valuable consideration the receipt and sufficiency',\n",
       " 'next business day',\n",
       " 'reasonable best efforts',\n",
       " 'cause each subsidiary to',\n",
       " 'in light of the circumstances',\n",
       " 'except as otherwise expressly provided',\n",
       " 'leased real property',\n",
       " 'libo rate',\n",
       " 'most recent',\n",
       " 'this agreement relied upon',\n",
       " 'general partner',\n",
       " 'similarly situated',\n",
       " 'securities of that series',\n",
       " 'notwithstanding anything to the contrary contained herein',\n",
       " 'all costs and expenses',\n",
       " 'rules of the american arbitration association',\n",
       " 'this agreement shall be governed by and construed in accordance with the laws',\n",
       " 'administrative agent and the lenders',\n",
       " 'lending office',\n",
       " 'an office or agency',\n",
       " 'the terms and subject to the conditions set forth in this agreement',\n",
       " 'not constitute a part of',\n",
       " 'borrowing base',\n",
       " 'then current term',\n",
       " 'written instrument executed by',\n",
       " 'an amount equal to',\n",
       " 'act u s c',\n",
       " 'he or she',\n",
       " 'to the extent permitted by',\n",
       " 'the requirements of the usa patriot act',\n",
       " 'loss or damage',\n",
       " 'schedule a attached hereto',\n",
       " 'in addition to any other remedy to which',\n",
       " 'validly existing and in good standing under the laws']"
      ]
     },
     "execution_count": 82,
     "metadata": {},
     "output_type": "execute_result"
    }
   ],
   "source": [
    "set_phrases[:100]"
   ]
  }
 ],
 "metadata": {
  "kernelspec": {
   "display_name": "Python 3 (ipykernel)",
   "language": "python",
   "name": "python3"
  },
  "language_info": {
   "codemirror_mode": {
    "name": "ipython",
    "version": 3
   },
   "file_extension": ".py",
   "mimetype": "text/x-python",
   "name": "python",
   "nbconvert_exporter": "python",
   "pygments_lexer": "ipython3",
   "version": "3.8.13"
  }
 },
 "nbformat": 4,
 "nbformat_minor": 5
}
